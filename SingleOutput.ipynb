{
 "cells": [
  {
   "cell_type": "markdown",
   "source": [
    "Suppose\n",
    "\n",
    "* $K(x,x') = \\exp(-\\frac{\\|x-x'\\|^2}{2\\ell^2})$ with $\\ell=0.5$ (RBF with lengthscale 0.5)\n",
    "* Independent noises\n",
    "    * $\\epsilon_1\\sim N(0, \\sigma^2 = 0.09)$\n",
    "* $f$ is mean zero GP with kernel $K$\n",
    "* $y_1 = 2 f(x) + \\epsilon_1$\n",
    "\n",
    "Generate 100 observations of $(x, y_1, y_2)$ according to $x \\in\\{ 0.01, 0.02, 0.03, \\cdots 1\\}$ using ``sklearn``, then try to recover parameters with ``gpytorch``"
   ],
   "metadata": {
    "collapsed": false
   }
  },
  {
   "cell_type": "code",
   "execution_count": 1,
   "outputs": [],
   "source": [
    "from sklearn.gaussian_process.kernels import RBF, WhiteKernel\n",
    "from sklearn.gaussian_process import GaussianProcessRegressor\n",
    "\n",
    "import numpy as np\n",
    "import matplotlib.pyplot as plt\n",
    "\n",
    "import math\n",
    "import torch\n",
    "import gpytorch\n"
   ],
   "metadata": {
    "collapsed": false,
    "pycharm": {
     "name": "#%%\n"
    }
   }
  },
  {
   "cell_type": "code",
   "execution_count": 2,
   "outputs": [],
   "source": [
    "l = 0.5\n",
    "sigma1 = 0.3\n",
    "n = 100\n",
    "\n",
    "X = np.linspace(0.01, 1, 100).reshape(-1,1)\n",
    "\n",
    "K = RBF(length_scale=l)\n",
    "\n",
    "f = GaussianProcessRegressor(kernel=K)\n",
    "f_obs = f.sample_y(X, n_samples=1, random_state=1234)\n",
    "f_obs = f_obs[:,0]\n",
    "\n",
    "# generate noise\n",
    "\n",
    "np.random.seed(12345)\n",
    "\n",
    "y1 = 2 * f_obs + np.random.normal(scale=sigma1, size=100)\n"
   ],
   "metadata": {
    "collapsed": false,
    "pycharm": {
     "name": "#%%\n"
    }
   }
  },
  {
   "cell_type": "code",
   "execution_count": 3,
   "outputs": [
    {
     "data": {
      "text/plain": "<Figure size 432x288 with 1 Axes>",
      "image/png": "[encoded data removed]"
     },
     "metadata": {
      "needs_background": "light"
     },
     "output_type": "display_data"
    }
   ],
   "source": [
    "plt.plot(X, y1, label=\"y1\")\n",
    "plt.legend()\n",
    "plt.xlabel(\"$x$\")\n",
    "plt.ylabel(\"$y$\")\n",
    "plt.show()"
   ],
   "metadata": {
    "collapsed": false,
    "pycharm": {
     "name": "#%%\n"
    }
   }
  },
  {
   "cell_type": "code",
   "execution_count": 4,
   "outputs": [],
   "source": [
    "train_x = torch.from_numpy(X).float()\n",
    "train_y = torch.from_numpy(y1).float()\n",
    "\n",
    "class ExactGPModel(gpytorch.models.ExactGP):\n",
    "    def __init__(self, train_x, train_y, likelihood):\n",
    "        super(ExactGPModel, self).__init__(train_x, train_y, likelihood)\n",
    "        self.mean_module = gpytorch.means.ZeroMean()\n",
    "        self.covar_module = gpytorch.kernels.ScaleKernel(gpytorch.kernels.RBFKernel())\n",
    "\n",
    "    def forward(self, x):\n",
    "        mean_x = self.mean_module(x)\n",
    "        covar_x = self.covar_module(x)\n",
    "        return gpytorch.distributions.MultivariateNormal(mean_x, covar_x)\n",
    "\n",
    "# initialize likelihood and model\n",
    "likelihood = gpytorch.likelihoods.GaussianLikelihood()\n",
    "model = ExactGPModel(train_x, train_y, likelihood)\n"
   ],
   "metadata": {
    "collapsed": false,
    "pycharm": {
     "name": "#%%\n"
    }
   }
  },
  {
   "cell_type": "code",
   "execution_count": 8,
   "outputs": [
    {
     "name": "stdout",
     "output_type": "stream",
     "text": [
      "Iter 1/200 - Loss: 0.333   lengthscale: 0.605   noise: 0.092\n",
      "Iter 2/200 - Loss: 0.335   lengthscale: 0.651   noise: 0.102\n",
      "Iter 3/200 - Loss: 0.333   lengthscale: 0.617   noise: 0.095\n",
      "Iter 4/200 - Loss: 0.333   lengthscale: 0.588   noise: 0.088\n",
      "Iter 5/200 - Loss: 0.334   lengthscale: 0.580   noise: 0.086\n",
      "Iter 6/200 - Loss: 0.334   lengthscale: 0.589   noise: 0.087\n",
      "Iter 7/200 - Loss: 0.333   lengthscale: 0.605   noise: 0.090\n",
      "Iter 8/200 - Loss: 0.333   lengthscale: 0.622   noise: 0.093\n",
      "Iter 9/200 - Loss: 0.333   lengthscale: 0.636   noise: 0.096\n",
      "Iter 10/200 - Loss: 0.333   lengthscale: 0.641   noise: 0.097\n",
      "Iter 11/200 - Loss: 0.333   lengthscale: 0.638   noise: 0.097\n",
      "Iter 12/200 - Loss: 0.333   lengthscale: 0.629   noise: 0.095\n",
      "Iter 13/200 - Loss: 0.333   lengthscale: 0.619   noise: 0.093\n",
      "Iter 14/200 - Loss: 0.333   lengthscale: 0.609   noise: 0.091\n",
      "Iter 15/200 - Loss: 0.333   lengthscale: 0.604   noise: 0.090\n",
      "Iter 16/200 - Loss: 0.333   lengthscale: 0.604   noise: 0.089\n",
      "Iter 17/200 - Loss: 0.333   lengthscale: 0.609   noise: 0.090\n",
      "Iter 18/200 - Loss: 0.333   lengthscale: 0.617   noise: 0.091\n",
      "Iter 19/200 - Loss: 0.333   lengthscale: 0.625   noise: 0.092\n",
      "Iter 20/200 - Loss: 0.333   lengthscale: 0.632   noise: 0.094\n",
      "Iter 21/200 - Loss: 0.333   lengthscale: 0.636   noise: 0.095\n",
      "Iter 22/200 - Loss: 0.333   lengthscale: 0.635   noise: 0.095\n",
      "Iter 23/200 - Loss: 0.333   lengthscale: 0.631   noise: 0.095\n",
      "Iter 24/200 - Loss: 0.333   lengthscale: 0.625   noise: 0.094\n",
      "Iter 25/200 - Loss: 0.333   lengthscale: 0.619   noise: 0.093\n",
      "Iter 26/200 - Loss: 0.333   lengthscale: 0.615   noise: 0.091\n",
      "Iter 27/200 - Loss: 0.333   lengthscale: 0.614   noise: 0.091\n",
      "Iter 28/200 - Loss: 0.333   lengthscale: 0.615   noise: 0.091\n",
      "Iter 29/200 - Loss: 0.333   lengthscale: 0.619   noise: 0.091\n",
      "Iter 30/200 - Loss: 0.333   lengthscale: 0.624   noise: 0.092\n",
      "Iter 31/200 - Loss: 0.333   lengthscale: 0.628   noise: 0.093\n",
      "Iter 32/200 - Loss: 0.333   lengthscale: 0.630   noise: 0.094\n",
      "Iter 33/200 - Loss: 0.333   lengthscale: 0.630   noise: 0.094\n",
      "Iter 34/200 - Loss: 0.333   lengthscale: 0.627   noise: 0.094\n",
      "Iter 35/200 - Loss: 0.333   lengthscale: 0.624   noise: 0.093\n",
      "Iter 36/200 - Loss: 0.333   lengthscale: 0.620   noise: 0.093\n",
      "Iter 37/200 - Loss: 0.333   lengthscale: 0.617   noise: 0.092\n",
      "Iter 38/200 - Loss: 0.333   lengthscale: 0.617   noise: 0.092\n",
      "Iter 39/200 - Loss: 0.333   lengthscale: 0.618   noise: 0.091\n",
      "Iter 40/200 - Loss: 0.333   lengthscale: 0.620   noise: 0.092\n",
      "Iter 41/200 - Loss: 0.333   lengthscale: 0.623   noise: 0.092\n",
      "Iter 42/200 - Loss: 0.333   lengthscale: 0.625   noise: 0.093\n",
      "Iter 43/200 - Loss: 0.333   lengthscale: 0.625   noise: 0.093\n",
      "Iter 44/200 - Loss: 0.333   lengthscale: 0.624   noise: 0.093\n",
      "Iter 45/200 - Loss: 0.333   lengthscale: 0.622   noise: 0.093\n",
      "Iter 46/200 - Loss: 0.333   lengthscale: 0.620   noise: 0.093\n",
      "Iter 47/200 - Loss: 0.333   lengthscale: 0.618   noise: 0.092\n",
      "Iter 48/200 - Loss: 0.333   lengthscale: 0.617   noise: 0.092\n",
      "Iter 49/200 - Loss: 0.333   lengthscale: 0.618   noise: 0.092\n",
      "Iter 50/200 - Loss: 0.333   lengthscale: 0.619   noise: 0.092\n",
      "Iter 51/200 - Loss: 0.333   lengthscale: 0.621   noise: 0.092\n",
      "Iter 52/200 - Loss: 0.333   lengthscale: 0.622   noise: 0.093\n",
      "Iter 53/200 - Loss: 0.333   lengthscale: 0.623   noise: 0.093\n",
      "Iter 54/200 - Loss: 0.333   lengthscale: 0.622   noise: 0.093\n",
      "Iter 55/200 - Loss: 0.333   lengthscale: 0.621   noise: 0.093\n",
      "Iter 56/200 - Loss: 0.333   lengthscale: 0.620   noise: 0.093\n",
      "Iter 57/200 - Loss: 0.333   lengthscale: 0.619   noise: 0.092\n",
      "Iter 58/200 - Loss: 0.333   lengthscale: 0.619   noise: 0.092\n",
      "Iter 59/200 - Loss: 0.333   lengthscale: 0.619   noise: 0.092\n",
      "Iter 60/200 - Loss: 0.333   lengthscale: 0.620   noise: 0.092\n",
      "Iter 61/200 - Loss: 0.333   lengthscale: 0.621   noise: 0.092\n",
      "Iter 62/200 - Loss: 0.333   lengthscale: 0.622   noise: 0.093\n",
      "Iter 63/200 - Loss: 0.333   lengthscale: 0.622   noise: 0.093\n",
      "Iter 64/200 - Loss: 0.333   lengthscale: 0.621   noise: 0.093\n",
      "Iter 65/200 - Loss: 0.333   lengthscale: 0.621   noise: 0.093\n",
      "Iter 66/200 - Loss: 0.333   lengthscale: 0.620   noise: 0.093\n",
      "Iter 67/200 - Loss: 0.333   lengthscale: 0.620   noise: 0.092\n",
      "Iter 68/200 - Loss: 0.333   lengthscale: 0.620   noise: 0.092\n",
      "Iter 69/200 - Loss: 0.333   lengthscale: 0.621   noise: 0.092\n",
      "Iter 70/200 - Loss: 0.333   lengthscale: 0.621   noise: 0.092\n",
      "Iter 71/200 - Loss: 0.333   lengthscale: 0.622   noise: 0.092\n",
      "Iter 72/200 - Loss: 0.333   lengthscale: 0.622   noise: 0.093\n",
      "Iter 73/200 - Loss: 0.333   lengthscale: 0.622   noise: 0.093\n",
      "Iter 74/200 - Loss: 0.333   lengthscale: 0.621   noise: 0.093\n",
      "Iter 75/200 - Loss: 0.333   lengthscale: 0.621   noise: 0.093\n",
      "Iter 76/200 - Loss: 0.333   lengthscale: 0.620   noise: 0.092\n",
      "Iter 77/200 - Loss: 0.333   lengthscale: 0.621   noise: 0.092\n",
      "Iter 78/200 - Loss: 0.333   lengthscale: 0.621   noise: 0.092\n",
      "Iter 79/200 - Loss: 0.333   lengthscale: 0.621   noise: 0.092\n",
      "Iter 80/200 - Loss: 0.333   lengthscale: 0.622   noise: 0.092\n",
      "Iter 81/200 - Loss: 0.333   lengthscale: 0.622   noise: 0.093\n",
      "Iter 82/200 - Loss: 0.333   lengthscale: 0.621   noise: 0.093\n",
      "Iter 83/200 - Loss: 0.333   lengthscale: 0.621   noise: 0.093\n",
      "Iter 84/200 - Loss: 0.333   lengthscale: 0.621   noise: 0.093\n",
      "Iter 85/200 - Loss: 0.333   lengthscale: 0.621   noise: 0.092\n",
      "Iter 86/200 - Loss: 0.333   lengthscale: 0.621   noise: 0.092\n",
      "Iter 87/200 - Loss: 0.333   lengthscale: 0.621   noise: 0.092\n",
      "Iter 88/200 - Loss: 0.333   lengthscale: 0.621   noise: 0.092\n",
      "Iter 89/200 - Loss: 0.333   lengthscale: 0.621   noise: 0.093\n",
      "Iter 90/200 - Loss: 0.333   lengthscale: 0.621   noise: 0.093\n",
      "Iter 91/200 - Loss: 0.333   lengthscale: 0.621   noise: 0.093\n",
      "Iter 92/200 - Loss: 0.333   lengthscale: 0.621   noise: 0.093\n",
      "Iter 93/200 - Loss: 0.333   lengthscale: 0.621   noise: 0.093\n",
      "Iter 94/200 - Loss: 0.333   lengthscale: 0.621   noise: 0.092\n",
      "Iter 95/200 - Loss: 0.333   lengthscale: 0.621   noise: 0.092\n",
      "Iter 96/200 - Loss: 0.333   lengthscale: 0.621   noise: 0.092\n",
      "Iter 97/200 - Loss: 0.333   lengthscale: 0.621   noise: 0.092\n",
      "Iter 98/200 - Loss: 0.333   lengthscale: 0.621   noise: 0.093\n",
      "Iter 99/200 - Loss: 0.333   lengthscale: 0.621   noise: 0.093\n",
      "Iter 100/200 - Loss: 0.333   lengthscale: 0.621   noise: 0.093\n",
      "Iter 101/200 - Loss: 0.333   lengthscale: 0.621   noise: 0.093\n",
      "Iter 102/200 - Loss: 0.333   lengthscale: 0.621   noise: 0.092\n",
      "Iter 103/200 - Loss: 0.333   lengthscale: 0.621   noise: 0.092\n",
      "Iter 104/200 - Loss: 0.333   lengthscale: 0.621   noise: 0.092\n",
      "Iter 105/200 - Loss: 0.333   lengthscale: 0.621   noise: 0.092\n",
      "Iter 106/200 - Loss: 0.333   lengthscale: 0.621   noise: 0.092\n",
      "Iter 107/200 - Loss: 0.333   lengthscale: 0.621   noise: 0.093\n",
      "Iter 108/200 - Loss: 0.333   lengthscale: 0.621   noise: 0.093\n",
      "Iter 109/200 - Loss: 0.333   lengthscale: 0.621   noise: 0.093\n",
      "Iter 110/200 - Loss: 0.333   lengthscale: 0.621   noise: 0.092\n",
      "Iter 111/200 - Loss: 0.333   lengthscale: 0.621   noise: 0.092\n",
      "Iter 112/200 - Loss: 0.333   lengthscale: 0.621   noise: 0.092\n",
      "Iter 113/200 - Loss: 0.333   lengthscale: 0.621   noise: 0.092\n",
      "Iter 114/200 - Loss: 0.333   lengthscale: 0.621   noise: 0.092\n",
      "Iter 115/200 - Loss: 0.333   lengthscale: 0.621   noise: 0.093\n",
      "Iter 116/200 - Loss: 0.333   lengthscale: 0.621   noise: 0.093\n",
      "Iter 117/200 - Loss: 0.333   lengthscale: 0.621   noise: 0.093\n",
      "Iter 118/200 - Loss: 0.333   lengthscale: 0.621   noise: 0.092\n",
      "Iter 119/200 - Loss: 0.333   lengthscale: 0.621   noise: 0.092\n",
      "Iter 120/200 - Loss: 0.333   lengthscale: 0.621   noise: 0.092\n",
      "Iter 121/200 - Loss: 0.333   lengthscale: 0.621   noise: 0.092\n",
      "Iter 122/200 - Loss: 0.333   lengthscale: 0.621   noise: 0.092\n",
      "Iter 123/200 - Loss: 0.333   lengthscale: 0.621   noise: 0.093\n",
      "Iter 124/200 - Loss: 0.333   lengthscale: 0.621   noise: 0.093\n",
      "Iter 125/200 - Loss: 0.333   lengthscale: 0.621   noise: 0.093\n",
      "Iter 126/200 - Loss: 0.333   lengthscale: 0.621   noise: 0.092\n",
      "Iter 127/200 - Loss: 0.333   lengthscale: 0.621   noise: 0.092\n",
      "Iter 128/200 - Loss: 0.333   lengthscale: 0.621   noise: 0.092\n",
      "Iter 129/200 - Loss: 0.333   lengthscale: 0.621   noise: 0.092\n",
      "Iter 130/200 - Loss: 0.333   lengthscale: 0.621   noise: 0.092\n",
      "Iter 131/200 - Loss: 0.333   lengthscale: 0.621   noise: 0.093\n",
      "Iter 132/200 - Loss: 0.333   lengthscale: 0.621   noise: 0.093\n",
      "Iter 133/200 - Loss: 0.333   lengthscale: 0.621   noise: 0.093\n",
      "Iter 134/200 - Loss: 0.333   lengthscale: 0.621   noise: 0.092\n",
      "Iter 135/200 - Loss: 0.333   lengthscale: 0.621   noise: 0.092\n",
      "Iter 136/200 - Loss: 0.333   lengthscale: 0.621   noise: 0.092\n",
      "Iter 137/200 - Loss: 0.333   lengthscale: 0.621   noise: 0.092\n",
      "Iter 138/200 - Loss: 0.333   lengthscale: 0.621   noise: 0.092\n",
      "Iter 139/200 - Loss: 0.333   lengthscale: 0.621   noise: 0.093\n",
      "Iter 140/200 - Loss: 0.333   lengthscale: 0.621   noise: 0.093\n",
      "Iter 141/200 - Loss: 0.333   lengthscale: 0.621   noise: 0.093\n",
      "Iter 142/200 - Loss: 0.333   lengthscale: 0.621   noise: 0.092\n",
      "Iter 143/200 - Loss: 0.333   lengthscale: 0.621   noise: 0.092\n",
      "Iter 144/200 - Loss: 0.333   lengthscale: 0.621   noise: 0.092\n",
      "Iter 145/200 - Loss: 0.333   lengthscale: 0.621   noise: 0.092\n",
      "Iter 146/200 - Loss: 0.333   lengthscale: 0.621   noise: 0.092\n",
      "Iter 147/200 - Loss: 0.333   lengthscale: 0.621   noise: 0.093\n",
      "Iter 148/200 - Loss: 0.333   lengthscale: 0.621   noise: 0.093\n",
      "Iter 149/200 - Loss: 0.333   lengthscale: 0.621   noise: 0.092\n",
      "Iter 150/200 - Loss: 0.333   lengthscale: 0.621   noise: 0.092\n",
      "Iter 151/200 - Loss: 0.333   lengthscale: 0.621   noise: 0.092\n",
      "Iter 152/200 - Loss: 0.333   lengthscale: 0.621   noise: 0.092\n",
      "Iter 153/200 - Loss: 0.333   lengthscale: 0.621   noise: 0.092\n",
      "Iter 154/200 - Loss: 0.333   lengthscale: 0.621   noise: 0.092\n",
      "Iter 155/200 - Loss: 0.333   lengthscale: 0.621   noise: 0.093\n",
      "Iter 156/200 - Loss: 0.333   lengthscale: 0.621   noise: 0.092\n",
      "Iter 157/200 - Loss: 0.333   lengthscale: 0.621   noise: 0.092\n",
      "Iter 158/200 - Loss: 0.333   lengthscale: 0.621   noise: 0.092\n",
      "Iter 159/200 - Loss: 0.333   lengthscale: 0.621   noise: 0.092\n",
      "Iter 160/200 - Loss: 0.333   lengthscale: 0.621   noise: 0.092\n",
      "Iter 161/200 - Loss: 0.333   lengthscale: 0.621   noise: 0.092\n",
      "Iter 162/200 - Loss: 0.333   lengthscale: 0.621   noise: 0.092\n",
      "Iter 163/200 - Loss: 0.333   lengthscale: 0.621   noise: 0.092\n",
      "Iter 164/200 - Loss: 0.333   lengthscale: 0.621   noise: 0.092\n",
      "Iter 165/200 - Loss: 0.333   lengthscale: 0.621   noise: 0.092\n",
      "Iter 166/200 - Loss: 0.333   lengthscale: 0.621   noise: 0.092\n",
      "Iter 167/200 - Loss: 0.333   lengthscale: 0.621   noise: 0.092\n",
      "Iter 168/200 - Loss: 0.333   lengthscale: 0.621   noise: 0.092\n",
      "Iter 169/200 - Loss: 0.333   lengthscale: 0.621   noise: 0.092\n",
      "Iter 170/200 - Loss: 0.333   lengthscale: 0.621   noise: 0.092\n",
      "Iter 171/200 - Loss: 0.333   lengthscale: 0.621   noise: 0.092\n",
      "Iter 172/200 - Loss: 0.333   lengthscale: 0.621   noise: 0.092\n",
      "Iter 173/200 - Loss: 0.333   lengthscale: 0.621   noise: 0.092\n",
      "Iter 174/200 - Loss: 0.333   lengthscale: 0.621   noise: 0.092\n",
      "Iter 175/200 - Loss: 0.333   lengthscale: 0.621   noise: 0.092\n",
      "Iter 176/200 - Loss: 0.333   lengthscale: 0.621   noise: 0.092\n",
      "Iter 177/200 - Loss: 0.333   lengthscale: 0.621   noise: 0.092\n",
      "Iter 178/200 - Loss: 0.333   lengthscale: 0.621   noise: 0.092\n",
      "Iter 179/200 - Loss: 0.333   lengthscale: 0.621   noise: 0.092\n",
      "Iter 180/200 - Loss: 0.333   lengthscale: 0.621   noise: 0.092\n",
      "Iter 181/200 - Loss: 0.333   lengthscale: 0.621   noise: 0.092\n",
      "Iter 182/200 - Loss: 0.333   lengthscale: 0.621   noise: 0.092\n",
      "Iter 183/200 - Loss: 0.333   lengthscale: 0.621   noise: 0.092\n",
      "Iter 184/200 - Loss: 0.333   lengthscale: 0.621   noise: 0.092\n",
      "Iter 185/200 - Loss: 0.333   lengthscale: 0.621   noise: 0.092\n",
      "Iter 186/200 - Loss: 0.333   lengthscale: 0.621   noise: 0.092\n",
      "Iter 187/200 - Loss: 0.333   lengthscale: 0.621   noise: 0.092\n",
      "Iter 188/200 - Loss: 0.333   lengthscale: 0.621   noise: 0.092\n",
      "Iter 189/200 - Loss: 0.333   lengthscale: 0.621   noise: 0.092\n",
      "Iter 190/200 - Loss: 0.333   lengthscale: 0.621   noise: 0.092\n",
      "Iter 191/200 - Loss: 0.333   lengthscale: 0.621   noise: 0.092\n",
      "Iter 192/200 - Loss: 0.333   lengthscale: 0.621   noise: 0.092\n",
      "Iter 193/200 - Loss: 0.333   lengthscale: 0.621   noise: 0.092\n",
      "Iter 194/200 - Loss: 0.333   lengthscale: 0.621   noise: 0.092\n",
      "Iter 195/200 - Loss: 0.333   lengthscale: 0.621   noise: 0.092\n",
      "Iter 196/200 - Loss: 0.333   lengthscale: 0.621   noise: 0.092\n",
      "Iter 197/200 - Loss: 0.333   lengthscale: 0.621   noise: 0.092\n",
      "Iter 198/200 - Loss: 0.333   lengthscale: 0.621   noise: 0.092\n",
      "Iter 199/200 - Loss: 0.333   lengthscale: 0.621   noise: 0.092\n",
      "Iter 200/200 - Loss: 0.333   lengthscale: 0.621   noise: 0.092\n"
     ]
    }
   ],
   "source": [
    "training_iter = 200\n",
    "\n",
    "# Find optimal model hyperparameters\n",
    "model.train()\n",
    "likelihood.train()\n",
    "\n",
    "# Use the adam optimizer\n",
    "optimizer = torch.optim.Adam(model.parameters(), lr=0.1)  # Includes GaussianLikelihood parameters\n",
    "\n",
    "# \"Loss\" for GPs - the marginal log likelihood\n",
    "mll = gpytorch.mlls.ExactMarginalLogLikelihood(likelihood, model)\n",
    "\n",
    "for i in range(training_iter):\n",
    "    # Zero gradients from previous iteration\n",
    "    optimizer.zero_grad()\n",
    "    # Output from model\n",
    "    output = model(train_x)\n",
    "    # Calc loss and backprop gradients\n",
    "    loss = -mll(output, train_y)\n",
    "    loss.backward()\n",
    "    print('Iter %d/%d - Loss: %.3f   lengthscale: %.3f   noise: %.3f' % (\n",
    "        i + 1, training_iter, loss.item(),\n",
    "        model.covar_module.base_kernel.lengthscale.item(),\n",
    "        model.likelihood.noise.item()\n",
    "    ))\n",
    "    optimizer.step()\n"
   ],
   "metadata": {
    "collapsed": false,
    "pycharm": {
     "name": "#%%\n"
    }
   }
  },
  {
   "cell_type": "markdown",
   "source": [
    "``model.state_dict()`` returns nonsensical values since they're on log scale:"
   ],
   "metadata": {
    "collapsed": false
   }
  },
  {
   "cell_type": "code",
   "execution_count": 9,
   "outputs": [
    {
     "data": {
      "text/plain": "OrderedDict([('likelihood.noise_covar.raw_noise', tensor([-2.3351])),\n             ('likelihood.noise_covar.raw_noise_constraint.lower_bound',\n              tensor(1.0000e-04)),\n             ('likelihood.noise_covar.raw_noise_constraint.upper_bound',\n              tensor(inf)),\n             ('covar_module.raw_outputscale', tensor(4.4980)),\n             ('covar_module.base_kernel.raw_lengthscale', tensor([[-0.1500]])),\n             ('covar_module.base_kernel.raw_lengthscale_constraint.lower_bound',\n              tensor(0.)),\n             ('covar_module.base_kernel.raw_lengthscale_constraint.upper_bound',\n              tensor(inf)),\n             ('covar_module.raw_outputscale_constraint.lower_bound',\n              tensor(0.)),\n             ('covar_module.raw_outputscale_constraint.upper_bound',\n              tensor(inf))])"
     },
     "execution_count": 9,
     "metadata": {},
     "output_type": "execute_result"
    }
   ],
   "source": [
    "model.state_dict()"
   ],
   "metadata": {
    "collapsed": false,
    "pycharm": {
     "name": "#%%\n"
    }
   }
  },
  {
   "cell_type": "code",
   "execution_count": 13,
   "outputs": [
    {
     "name": "stdout",
     "output_type": "stream",
     "text": [
      "0.8607186806942286\n"
     ]
    },
    {
     "data": {
      "text/plain": "0.6209627389907837"
     },
     "execution_count": 13,
     "metadata": {},
     "output_type": "execute_result"
    }
   ],
   "source": [
    "print(np.exp(model.covar_module.base_kernel.raw_lengthscale.item()))\n",
    "model.covar_module.base_kernel.lengthscale.item()"
   ],
   "metadata": {
    "collapsed": false,
    "pycharm": {
     "name": "#%%\n"
    }
   }
  },
  {
   "cell_type": "code",
   "execution_count": 14,
   "outputs": [],
   "source": [
    "raw_outputscale = model.covar_module.raw_outputscale\n",
    "constraint = model.covar_module.raw_outputscale_constraint"
   ],
   "metadata": {
    "collapsed": false,
    "pycharm": {
     "name": "#%%\n"
    }
   }
  },
  {
   "cell_type": "code",
   "execution_count": 16,
   "outputs": [
    {
     "data": {
      "text/plain": "tensor([[0.6210]], grad_fn=<SoftplusBackward0>)"
     },
     "execution_count": 16,
     "metadata": {},
     "output_type": "execute_result"
    }
   ],
   "source": [
    "constraint.transform(model.covar_module.base_kernel.raw_lengthscale)"
   ],
   "metadata": {
    "collapsed": false,
    "pycharm": {
     "name": "#%%\n"
    }
   }
  },
  {
   "cell_type": "code",
   "execution_count": null,
   "outputs": [],
   "source": [
    "model.covar_module.task_covar_module.covar_matrix.evaluate()"
   ],
   "metadata": {
    "collapsed": false,
    "pycharm": {
     "name": "#%%\n"
    }
   }
  },
  {
   "cell_type": "markdown",
   "source": [
    "Still not sure what this is"
   ],
   "metadata": {
    "collapsed": false
   }
  },
  {
   "cell_type": "code",
   "execution_count": null,
   "outputs": [],
   "source": [
    "print(model.covar_module.task_covar_module.raw_var)\n",
    "print(torch.exp(model.covar_module.task_covar_module.raw_var))"
   ],
   "metadata": {
    "collapsed": false,
    "pycharm": {
     "name": "#%%\n"
    }
   }
  },
  {
   "cell_type": "markdown",
   "source": [
    "The lengthscale **should** be 0.5"
   ],
   "metadata": {
    "collapsed": false
   }
  },
  {
   "cell_type": "code",
   "execution_count": null,
   "outputs": [],
   "source": [
    "print(model.covar_module.data_covar_module.raw_lengthscale)\n",
    "print(torch.exp(model.covar_module.data_covar_module.raw_lengthscale))"
   ],
   "metadata": {
    "collapsed": false,
    "pycharm": {
     "name": "#%%\n"
    }
   }
  },
  {
   "cell_type": "code",
   "execution_count": null,
   "metadata": {
    "collapsed": true
   },
   "outputs": [],
   "source": []
  }
 ],
 "metadata": {
  "kernelspec": {
   "name": "pycharm-126a9db0",
   "language": "python",
   "display_name": "PyCharm (gpytorch-multitask-check)"
  },
  "language_info": {
   "codemirror_mode": {
    "name": "ipython",
    "version": 2
   },
   "file_extension": ".py",
   "mimetype": "text/x-python",
   "name": "python",
   "nbconvert_exporter": "python",
   "pygments_lexer": "ipython2",
   "version": "2.7.6"
  }
 },
 "nbformat": 4,
 "nbformat_minor": 0
}