{
 "cells": [
  {
   "cell_type": "markdown",
   "metadata": {
    "collapsed": true,
    "pycharm": {
     "name": "#%% md\n"
    }
   },
   "source": [
    "Suppose\n",
    "\n",
    "* $K(x,x') = \\exp(-\\frac{\\|x-x'\\|^2}{2\\ell^2})$ with $\\ell=0.5$ (RBF with lengthscale 0.5)\n",
    "* Independent noises\n",
    "    * $\\epsilon_1\\sim N(0, \\sigma^2 = 0.09)$\n",
    "    * $\\epsilon_2 \\sim N(0, \\sigma^2 = 0.01)$\n",
    "* $f$ is mean zero GP with kernel $K$\n",
    "* $y_1 = 2 f(x) + \\epsilon_1$\n",
    "* $y_2 = -0.5 f(x) + \\epsilon_2$\n",
    "\n",
    "Generate 100 observations of $(x, y_1, y_2)$ according to $x \\in\\{ 0.01, 0.02, 0.03, \\cdots 1\\}$ using ``sklearn``, then try to recover parameters with ``gpytorch``"
   ]
  },
  {
   "cell_type": "code",
   "execution_count": 1,
   "outputs": [],
   "source": [
    "from sklearn.gaussian_process.kernels import RBF, WhiteKernel\n",
    "from sklearn.gaussian_process import GaussianProcessRegressor\n",
    "\n",
    "import numpy as np\n",
    "import matplotlib.pyplot as plt\n",
    "\n",
    "import math\n",
    "import torch\n",
    "import gpytorch\n"
   ],
   "metadata": {
    "collapsed": false,
    "pycharm": {
     "name": "#%%\n"
    }
   }
  },
  {
   "cell_type": "code",
   "execution_count": 2,
   "outputs": [],
   "source": [
    "l = 0.5\n",
    "sigma1 = 0.3\n",
    "sigma2 = 0.1\n",
    "n = 100\n",
    "\n",
    "X = np.linspace(0.01, 1, 100).reshape(-1,1)\n",
    "\n",
    "K = RBF(length_scale=l)\n",
    "\n",
    "f = GaussianProcessRegressor(kernel=K)\n",
    "f_obs = f.sample_y(X, n_samples=1, random_state=1234)\n",
    "f_obs = f_obs[:,0]\n",
    "\n",
    "# generate noise\n",
    "\n",
    "np.random.seed(12345)\n",
    "\n",
    "y1 = 2 * f_obs + np.random.normal(scale=sigma1, size=100)\n",
    "y2 = -0.5 * f_obs + np.random.normal(scale=sigma2, size=100)\n"
   ],
   "metadata": {
    "collapsed": false,
    "pycharm": {
     "name": "#%%\n"
    }
   }
  },
  {
   "cell_type": "code",
   "execution_count": 3,
   "outputs": [
    {
     "data": {
      "text/plain": "<Figure size 432x288 with 1 Axes>",
      "image/png": "[encoded data removed]"
     },
     "metadata": {
      "needs_background": "light"
     },
     "output_type": "display_data"
    }
   ],
   "source": [
    "plt.plot(X, y1, label=\"y1\")\n",
    "plt.plot(X, y2, label=\"y2\")\n",
    "plt.legend()\n",
    "plt.xlabel(\"$x$\")\n",
    "plt.ylabel(\"$y$\")\n",
    "plt.show()"
   ],
   "metadata": {
    "collapsed": false,
    "pycharm": {
     "name": "#%%\n"
    }
   }
  },
  {
   "cell_type": "code",
   "execution_count": 23,
   "outputs": [],
   "source": [
    "train_x = torch.from_numpy(X).float()\n",
    "train_y = torch.stack([\n",
    "    torch.from_numpy(y1).float(),\n",
    "    torch.from_numpy(y2).float(),\n",
    "], -1)\n",
    "\n",
    "class MultitaskGPModel(gpytorch.models.ExactGP):\n",
    "    def __init__(self, train_x, train_y, likelihood):\n",
    "        super(MultitaskGPModel, self).__init__(train_x, train_y, likelihood)\n",
    "        self.mean_module = gpytorch.means.MultitaskMean(\n",
    "            gpytorch.means.ZeroMean(), num_tasks=2\n",
    "        )\n",
    "        self.covar_module = gpytorch.kernels.MultitaskKernel(\n",
    "            gpytorch.kernels.RBFKernel(), num_tasks=2, rank=1\n",
    "        )\n",
    "\n",
    "    def forward(self, x):\n",
    "        mean_x = self.mean_module(x)\n",
    "        covar_x = self.covar_module(x)\n",
    "        return gpytorch.distributions.MultitaskMultivariateNormal(mean_x, covar_x)\n",
    "\n",
    "\n",
    "likelihood = gpytorch.likelihoods.MultitaskGaussianLikelihood(num_tasks=2)\n",
    "model = MultitaskGPModel(train_x, train_y, likelihood)"
   ],
   "metadata": {
    "collapsed": false,
    "pycharm": {
     "name": "#%%\n"
    }
   }
  },
  {
   "cell_type": "code",
   "execution_count": 24,
   "outputs": [
    {
     "name": "stdout",
     "output_type": "stream",
     "text": [
      "Iter 1/200 - Loss: 1.175\n",
      "Iter 2/200 - Loss: 1.136\n",
      "Iter 3/200 - Loss: 1.097\n",
      "Iter 4/200 - Loss: 1.059\n",
      "Iter 5/200 - Loss: 1.021\n",
      "Iter 6/200 - Loss: 0.983\n",
      "Iter 7/200 - Loss: 0.946\n",
      "Iter 8/200 - Loss: 0.909\n",
      "Iter 9/200 - Loss: 0.870\n",
      "Iter 10/200 - Loss: 0.832\n",
      "Iter 11/200 - Loss: 0.792\n",
      "Iter 12/200 - Loss: 0.752\n",
      "Iter 13/200 - Loss: 0.712\n",
      "Iter 14/200 - Loss: 0.672\n",
      "Iter 15/200 - Loss: 0.632\n",
      "Iter 16/200 - Loss: 0.592\n",
      "Iter 17/200 - Loss: 0.552\n",
      "Iter 18/200 - Loss: 0.513\n",
      "Iter 19/200 - Loss: 0.474\n",
      "Iter 20/200 - Loss: 0.436\n",
      "Iter 21/200 - Loss: 0.399\n",
      "Iter 22/200 - Loss: 0.362\n",
      "Iter 23/200 - Loss: 0.326\n",
      "Iter 24/200 - Loss: 0.291\n",
      "Iter 25/200 - Loss: 0.257\n",
      "Iter 26/200 - Loss: 0.224\n",
      "Iter 27/200 - Loss: 0.193\n",
      "Iter 28/200 - Loss: 0.164\n",
      "Iter 29/200 - Loss: 0.136\n",
      "Iter 30/200 - Loss: 0.110\n",
      "Iter 31/200 - Loss: 0.087\n",
      "Iter 32/200 - Loss: 0.065\n",
      "Iter 33/200 - Loss: 0.044\n",
      "Iter 34/200 - Loss: 0.026\n",
      "Iter 35/200 - Loss: 0.009\n",
      "Iter 36/200 - Loss: -0.006\n",
      "Iter 37/200 - Loss: -0.020\n",
      "Iter 38/200 - Loss: -0.034\n",
      "Iter 39/200 - Loss: -0.047\n",
      "Iter 40/200 - Loss: -0.059\n",
      "Iter 41/200 - Loss: -0.072\n",
      "Iter 42/200 - Loss: -0.085\n",
      "Iter 43/200 - Loss: -0.099\n",
      "Iter 44/200 - Loss: -0.113\n",
      "Iter 45/200 - Loss: -0.127\n",
      "Iter 46/200 - Loss: -0.141\n",
      "Iter 47/200 - Loss: -0.156\n",
      "Iter 48/200 - Loss: -0.170\n",
      "Iter 49/200 - Loss: -0.183\n",
      "Iter 50/200 - Loss: -0.195\n",
      "Iter 51/200 - Loss: -0.206\n",
      "Iter 52/200 - Loss: -0.216\n",
      "Iter 53/200 - Loss: -0.225\n",
      "Iter 54/200 - Loss: -0.233\n",
      "Iter 55/200 - Loss: -0.239\n",
      "Iter 56/200 - Loss: -0.244\n",
      "Iter 57/200 - Loss: -0.249\n",
      "Iter 58/200 - Loss: -0.252\n",
      "Iter 59/200 - Loss: -0.255\n",
      "Iter 60/200 - Loss: -0.258\n",
      "Iter 61/200 - Loss: -0.260\n",
      "Iter 62/200 - Loss: -0.262\n",
      "Iter 63/200 - Loss: -0.263\n",
      "Iter 64/200 - Loss: -0.265\n",
      "Iter 65/200 - Loss: -0.266\n",
      "Iter 66/200 - Loss: -0.267\n",
      "Iter 67/200 - Loss: -0.268\n",
      "Iter 68/200 - Loss: -0.269\n",
      "Iter 69/200 - Loss: -0.269\n",
      "Iter 70/200 - Loss: -0.270\n",
      "Iter 71/200 - Loss: -0.270\n",
      "Iter 72/200 - Loss: -0.270\n",
      "Iter 73/200 - Loss: -0.270\n",
      "Iter 74/200 - Loss: -0.270\n",
      "Iter 75/200 - Loss: -0.271\n",
      "Iter 76/200 - Loss: -0.271\n",
      "Iter 77/200 - Loss: -0.271\n",
      "Iter 78/200 - Loss: -0.272\n",
      "Iter 79/200 - Loss: -0.272\n",
      "Iter 80/200 - Loss: -0.273\n",
      "Iter 81/200 - Loss: -0.273\n",
      "Iter 82/200 - Loss: -0.274\n",
      "Iter 83/200 - Loss: -0.275\n",
      "Iter 84/200 - Loss: -0.276\n",
      "Iter 85/200 - Loss: -0.277\n",
      "Iter 86/200 - Loss: -0.277\n",
      "Iter 87/200 - Loss: -0.278\n",
      "Iter 88/200 - Loss: -0.278\n",
      "Iter 89/200 - Loss: -0.279\n",
      "Iter 90/200 - Loss: -0.280\n",
      "Iter 91/200 - Loss: -0.280\n",
      "Iter 92/200 - Loss: -0.280\n",
      "Iter 93/200 - Loss: -0.280\n",
      "Iter 94/200 - Loss: -0.281\n",
      "Iter 95/200 - Loss: -0.281\n",
      "Iter 96/200 - Loss: -0.281\n",
      "Iter 97/200 - Loss: -0.281\n",
      "Iter 98/200 - Loss: -0.281\n",
      "Iter 99/200 - Loss: -0.282\n",
      "Iter 100/200 - Loss: -0.282\n",
      "Iter 101/200 - Loss: -0.282\n",
      "Iter 102/200 - Loss: -0.282\n",
      "Iter 103/200 - Loss: -0.282\n",
      "Iter 104/200 - Loss: -0.282\n",
      "Iter 105/200 - Loss: -0.283\n",
      "Iter 106/200 - Loss: -0.283\n",
      "Iter 107/200 - Loss: -0.283\n",
      "Iter 108/200 - Loss: -0.283\n",
      "Iter 109/200 - Loss: -0.283\n",
      "Iter 110/200 - Loss: -0.283\n",
      "Iter 111/200 - Loss: -0.284\n",
      "Iter 112/200 - Loss: -0.284\n",
      "Iter 113/200 - Loss: -0.284\n",
      "Iter 114/200 - Loss: -0.284\n",
      "Iter 115/200 - Loss: -0.284\n",
      "Iter 116/200 - Loss: -0.284\n",
      "Iter 117/200 - Loss: -0.285\n",
      "Iter 118/200 - Loss: -0.285\n",
      "Iter 119/200 - Loss: -0.285\n",
      "Iter 120/200 - Loss: -0.285\n",
      "Iter 121/200 - Loss: -0.285\n",
      "Iter 122/200 - Loss: -0.285\n",
      "Iter 123/200 - Loss: -0.285\n",
      "Iter 124/200 - Loss: -0.285\n",
      "Iter 125/200 - Loss: -0.285\n",
      "Iter 126/200 - Loss: -0.285\n",
      "Iter 127/200 - Loss: -0.285\n",
      "Iter 128/200 - Loss: -0.285\n",
      "Iter 129/200 - Loss: -0.285\n",
      "Iter 130/200 - Loss: -0.286\n",
      "Iter 131/200 - Loss: -0.286\n",
      "Iter 132/200 - Loss: -0.286\n",
      "Iter 133/200 - Loss: -0.286\n",
      "Iter 134/200 - Loss: -0.285\n",
      "Iter 135/200 - Loss: -0.285\n",
      "Iter 136/200 - Loss: -0.286\n",
      "Iter 137/200 - Loss: -0.286\n",
      "Iter 138/200 - Loss: -0.286\n",
      "Iter 139/200 - Loss: -0.286\n",
      "Iter 140/200 - Loss: -0.286\n",
      "Iter 141/200 - Loss: -0.286\n",
      "Iter 142/200 - Loss: -0.286\n",
      "Iter 143/200 - Loss: -0.286\n",
      "Iter 144/200 - Loss: -0.286\n",
      "Iter 145/200 - Loss: -0.286\n",
      "Iter 146/200 - Loss: -0.286\n",
      "Iter 147/200 - Loss: -0.286\n",
      "Iter 148/200 - Loss: -0.286\n",
      "Iter 149/200 - Loss: -0.286\n",
      "Iter 150/200 - Loss: -0.286\n",
      "Iter 151/200 - Loss: -0.286\n",
      "Iter 152/200 - Loss: -0.286\n",
      "Iter 153/200 - Loss: -0.286\n",
      "Iter 154/200 - Loss: -0.286\n",
      "Iter 155/200 - Loss: -0.286\n",
      "Iter 156/200 - Loss: -0.286\n",
      "Iter 157/200 - Loss: -0.286\n",
      "Iter 158/200 - Loss: -0.286\n",
      "Iter 159/200 - Loss: -0.286\n",
      "Iter 160/200 - Loss: -0.286\n",
      "Iter 161/200 - Loss: -0.286\n",
      "Iter 162/200 - Loss: -0.286\n",
      "Iter 163/200 - Loss: -0.286\n",
      "Iter 164/200 - Loss: -0.286\n",
      "Iter 165/200 - Loss: -0.286\n",
      "Iter 166/200 - Loss: -0.286\n",
      "Iter 167/200 - Loss: -0.286\n",
      "Iter 168/200 - Loss: -0.286\n",
      "Iter 169/200 - Loss: -0.287\n",
      "Iter 170/200 - Loss: -0.287\n",
      "Iter 171/200 - Loss: -0.287\n",
      "Iter 172/200 - Loss: -0.287\n",
      "Iter 173/200 - Loss: -0.286\n",
      "Iter 174/200 - Loss: -0.286\n",
      "Iter 175/200 - Loss: -0.286\n",
      "Iter 176/200 - Loss: -0.286\n",
      "Iter 177/200 - Loss: -0.286\n",
      "Iter 178/200 - Loss: -0.286\n",
      "Iter 179/200 - Loss: -0.287\n",
      "Iter 180/200 - Loss: -0.287\n",
      "Iter 181/200 - Loss: -0.287\n",
      "Iter 182/200 - Loss: -0.287\n",
      "Iter 183/200 - Loss: -0.287\n",
      "Iter 184/200 - Loss: -0.287\n",
      "Iter 185/200 - Loss: -0.287\n",
      "Iter 186/200 - Loss: -0.287\n",
      "Iter 187/200 - Loss: -0.287\n",
      "Iter 188/200 - Loss: -0.287\n",
      "Iter 189/200 - Loss: -0.287\n",
      "Iter 190/200 - Loss: -0.287\n",
      "Iter 191/200 - Loss: -0.287\n",
      "Iter 192/200 - Loss: -0.287\n",
      "Iter 193/200 - Loss: -0.287\n",
      "Iter 194/200 - Loss: -0.287\n",
      "Iter 195/200 - Loss: -0.287\n",
      "Iter 196/200 - Loss: -0.287\n",
      "Iter 197/200 - Loss: -0.287\n",
      "Iter 198/200 - Loss: -0.287\n",
      "Iter 199/200 - Loss: -0.287\n",
      "Iter 200/200 - Loss: -0.287\n"
     ]
    }
   ],
   "source": [
    "training_iterations = 200\n",
    "\n",
    "model.train()\n",
    "likelihood.train()\n",
    "\n",
    "# Use the adam optimizer\n",
    "optimizer = torch.optim.Adam(model.parameters(), lr=0.1)  # Includes GaussianLikelihood parameters\n",
    "\n",
    "# \"Loss\" for GPs - the marginal log likelihood\n",
    "mll = gpytorch.mlls.ExactMarginalLogLikelihood(likelihood, model)\n",
    "\n",
    "for i in range(training_iterations):\n",
    "    optimizer.zero_grad()\n",
    "    output = model(train_x)\n",
    "    loss = -mll(output, train_y)\n",
    "    loss.backward()\n",
    "    print('Iter %d/%d - Loss: %.3f' % (i + 1, training_iterations, loss.item()))\n",
    "    optimizer.step()"
   ],
   "metadata": {
    "collapsed": false,
    "pycharm": {
     "name": "#%%\n"
    }
   }
  },
  {
   "cell_type": "markdown",
   "source": [
    "``model.state_dict()`` returns many nonsensical values since they're on a transformed scale (not quite log):"
   ],
   "metadata": {
    "collapsed": false,
    "pycharm": {
     "name": "#%% md\n"
    }
   }
  },
  {
   "cell_type": "code",
   "execution_count": 25,
   "outputs": [
    {
     "data": {
      "text/plain": "OrderedDict([('likelihood.raw_task_noises', tensor([-2.4227, -5.8193])),\n             ('likelihood.raw_noise', tensor([-5.0665])),\n             ('likelihood.raw_task_noises_constraint.lower_bound',\n              tensor(1.0000e-04)),\n             ('likelihood.raw_task_noises_constraint.upper_bound',\n              tensor(inf)),\n             ('likelihood.raw_noise_constraint.lower_bound',\n              tensor(1.0000e-04)),\n             ('likelihood.raw_noise_constraint.upper_bound', tensor(inf)),\n             ('covar_module.task_covar_module.covar_factor',\n              tensor([[-2.0625],\n                      [ 0.5301]])),\n             ('covar_module.task_covar_module.raw_var',\n              tensor([ -7.9068, -10.3894])),\n             ('covar_module.task_covar_module.raw_var_constraint.lower_bound',\n              tensor(0.)),\n             ('covar_module.task_covar_module.raw_var_constraint.upper_bound',\n              tensor(inf)),\n             ('covar_module.data_covar_module.raw_lengthscale',\n              tensor([[-0.2058]])),\n             ('covar_module.data_covar_module.raw_lengthscale_constraint.lower_bound',\n              tensor(0.)),\n             ('covar_module.data_covar_module.raw_lengthscale_constraint.upper_bound',\n              tensor(inf))])"
     },
     "execution_count": 25,
     "metadata": {},
     "output_type": "execute_result"
    }
   ],
   "source": [
    "model.state_dict()"
   ],
   "metadata": {
    "collapsed": false,
    "pycharm": {
     "name": "#%%\n"
    }
   }
  },
  {
   "cell_type": "markdown",
   "source": [
    "# Positive Parameters\n",
    "\n",
    "Any parameters that were strictly positive can be transformed to interpretable values by defining a transformer according to the transform (*you could also define a similar transformer if there are other parameter constraints through those parameters*)"
   ],
   "metadata": {
    "collapsed": false,
    "pycharm": {
     "name": "#%% md\n"
    }
   }
  },
  {
   "cell_type": "code",
   "execution_count": 37,
   "outputs": [],
   "source": [
    "trans_to_pos = model.covar_module.task_covar_module.raw_var_constraint.transform"
   ],
   "metadata": {
    "collapsed": false,
    "pycharm": {
     "name": "#%%\n"
    }
   }
  },
  {
   "cell_type": "markdown",
   "source": [
    "Now, use this as a function to transform any positive only quantity to the original hyperparameter, for example"
   ],
   "metadata": {
    "collapsed": false,
    "pycharm": {
     "name": "#%% md\n"
    }
   }
  },
  {
   "cell_type": "code",
   "execution_count": 38,
   "outputs": [
    {
     "name": "stdout",
     "output_type": "stream",
     "text": [
      "raw lengthscale: Parameter containing:\n",
      "tensor([[-0.2058]], requires_grad=True)\n",
      "lengthscale: tensor([[0.5956]], grad_fn=<SoftplusBackward0>)\n"
     ]
    }
   ],
   "source": [
    "raw_lengthscale = model.covar_module.data_covar_module.raw_lengthscale\n",
    "lengthscale = trans_to_pos(raw_lengthscale)\n",
    "\n",
    "print(f\"raw lengthscale: {raw_lengthscale}\")\n",
    "print(f\"lengthscale: {lengthscale}\")"
   ],
   "metadata": {
    "collapsed": false,
    "pycharm": {
     "name": "#%%\n"
    }
   }
  },
  {
   "cell_type": "markdown",
   "source": [
    "The lengthscale of 0.5 is approximately recovered through model training."
   ],
   "metadata": {
    "collapsed": false,
    "pycharm": {
     "name": "#%% md\n"
    }
   }
  },
  {
   "cell_type": "markdown",
   "source": [
    "# Other positive parameters\n",
    "\n",
    "Here is one way to iterate through **all** parameters.\n",
    "\n",
    "**Warning: this code will transform all parameters, whether positive or not.  Some should not be transformed, like ``covar_factor`` (discussed below)**"
   ],
   "metadata": {
    "collapsed": false,
    "pycharm": {
     "name": "#%% md\n"
    }
   }
  },
  {
   "cell_type": "code",
   "execution_count": 40,
   "outputs": [
    {
     "name": "stdout",
     "output_type": "stream",
     "text": [
      "Parameter name:\n",
      "likelihood.raw_task_noises\n",
      "tensor([0.0850, 0.0030], grad_fn=<SoftplusBackward0>)\n",
      "Parameter name:\n",
      "likelihood.raw_noise\n",
      "tensor([0.0063], grad_fn=<SoftplusBackward0>)\n",
      "Parameter name:\n",
      "covar_module.task_covar_module.covar_factor\n",
      "tensor([[0.1197],\n",
      "        [0.9929]], grad_fn=<SoftplusBackward0>)\n",
      "Parameter name:\n",
      "covar_module.task_covar_module.raw_var\n",
      "tensor([3.6815e-04, 3.0757e-05], grad_fn=<SoftplusBackward0>)\n",
      "Parameter name:\n",
      "covar_module.data_covar_module.raw_lengthscale\n",
      "tensor([[0.5956]], grad_fn=<SoftplusBackward0>)\n"
     ]
    }
   ],
   "source": [
    "for param_name, param in model.named_parameters():\n",
    "    print('Parameter name:')\n",
    "    print(param_name)\n",
    "    print(trans_to_pos(param))\n"
   ],
   "metadata": {
    "collapsed": false,
    "pycharm": {
     "name": "#%%\n"
    }
   }
  },
  {
   "cell_type": "markdown",
   "source": [
    "# Noises\n",
    "\n",
    "**Recall:**\n",
    "\n",
    "* Independent noises\n",
    "    * $\\epsilon_1\\sim N(0, \\sigma^2 = 0.09)$\n",
    "    * $\\epsilon_2 \\sim N(0, \\sigma^2 = 0.01)$\n",
    "* $f$ is mean zero GP with kernel $K$\n",
    "* $y_1 = 2 f(x) + \\epsilon_1$\n",
    "* $y_2 = -0.5 f(x) + \\epsilon_2$\n",
    "\n",
    "Still trying to figure out how to recover $\\sigma_1^2$ and $\\sigma_2^2$.  I think the ``gpytorch`` setup is moreso like\n",
    "\n",
    "* $y_1 = 2 f(x) + \\epsilon + \\epsilon_1$\n",
    "* $y_2 = -0.5 f(x) + \\epsilon + \\epsilon_2$\n",
    "\n",
    "which is useful when you may expect correlated noises.\n",
    "\n",
    "I believe in this case, we can get (slight abuse of notation since these are estimated values)\n",
    "\n",
    "* $\\text{var}(\\epsilon) = 0.0063$:"
   ],
   "metadata": {
    "collapsed": false,
    "pycharm": {
     "name": "#%% md\n"
    }
   }
  },
  {
   "cell_type": "code",
   "execution_count": 41,
   "outputs": [
    {
     "data": {
      "text/plain": "tensor([0.0063], grad_fn=<SoftplusBackward0>)"
     },
     "execution_count": 41,
     "metadata": {},
     "output_type": "execute_result"
    }
   ],
   "source": [
    "trans_to_pos(model.likelihood.raw_noise)"
   ],
   "metadata": {
    "collapsed": false,
    "pycharm": {
     "name": "#%%\n"
    }
   }
  },
  {
   "cell_type": "markdown",
   "source": [
    "* $\\text{var}(\\epsilon_1) = 0.0850$:\n",
    "* $\\text{var}(\\epsilon_2) = 0.0030$:"
   ],
   "metadata": {
    "collapsed": false,
    "pycharm": {
     "name": "#%% md\n"
    }
   }
  },
  {
   "cell_type": "code",
   "execution_count": 42,
   "outputs": [
    {
     "data": {
      "text/plain": "tensor([0.0850, 0.0030], grad_fn=<SoftplusBackward0>)"
     },
     "execution_count": 42,
     "metadata": {},
     "output_type": "execute_result"
    }
   ],
   "source": [
    "trans_to_pos(model.likelihood.raw_task_noises)"
   ],
   "metadata": {
    "collapsed": false,
    "pycharm": {
     "name": "#%%\n"
    }
   }
  },
  {
   "cell_type": "markdown",
   "source": [
    "Since epsilons are independent, the original epsilon variances would be\n",
    "\n",
    "* $\\sigma_1^2 = 0.09 \\approx 0.0063 + 0.0850$\n",
    "* $\\sigma_2^2 = 0.01 \\approx 0.0063 + 0.0030$\n",
    "\n",
    "so this seems reasonable."
   ],
   "metadata": {
    "collapsed": false,
    "pycharm": {
     "name": "#%% md\n"
    }
   }
  },
  {
   "cell_type": "markdown",
   "source": [
    "I'm not sure what this is."
   ],
   "metadata": {
    "collapsed": false,
    "pycharm": {
     "name": "#%% md\n"
    }
   }
  },
  {
   "cell_type": "code",
   "execution_count": 45,
   "outputs": [
    {
     "data": {
      "text/plain": "tensor([3.6815e-04, 3.0757e-05], grad_fn=<SoftplusBackward0>)"
     },
     "execution_count": 45,
     "metadata": {},
     "output_type": "execute_result"
    }
   ],
   "source": [
    "raw_var = model.covar_module.task_covar_module.raw_var\n",
    "trans_to_pos(raw_var)"
   ],
   "metadata": {
    "collapsed": false,
    "pycharm": {
     "name": "#%%\n"
    }
   }
  },
  {
   "cell_type": "markdown",
   "source": [
    "# Linear Factors for Multioutput GP\n",
    "\n",
    "Finally, remember\n",
    "\n",
    "* $y_1 = 2 f(x) + \\epsilon_1$\n",
    "* $y_2 = -0.5 f(x) + \\epsilon_2$\n",
    "\n",
    "The coefficients $(2, -0.5)$ can be negative and should **not** be transformed.  Their untransformed values are available as such:"
   ],
   "metadata": {
    "collapsed": false,
    "pycharm": {
     "name": "#%% md\n"
    }
   }
  },
  {
   "cell_type": "code",
   "execution_count": 46,
   "outputs": [
    {
     "data": {
      "text/plain": "Parameter containing:\ntensor([[-2.0625],\n        [ 0.5301]], requires_grad=True)"
     },
     "execution_count": 46,
     "metadata": {},
     "output_type": "execute_result"
    }
   ],
   "source": [
    "model.covar_module.task_covar_module.covar_factor"
   ],
   "metadata": {
    "collapsed": false,
    "pycharm": {
     "name": "#%%\n"
    }
   }
  },
  {
   "cell_type": "markdown",
   "source": [
    "It did a good job!\n",
    "\n",
    "Note:"
   ],
   "metadata": {
    "collapsed": false,
    "pycharm": {
     "name": "#%% md\n"
    }
   }
  },
  {
   "cell_type": "code",
   "execution_count": 51,
   "outputs": [],
   "source": [
    "covar_factor = model.covar_module.task_covar_module.covar_factor"
   ],
   "metadata": {
    "collapsed": false,
    "pycharm": {
     "name": "#%%\n"
    }
   }
  },
  {
   "cell_type": "code",
   "execution_count": 52,
   "outputs": [
    {
     "data": {
      "text/plain": "tensor([[ 4.2544, -1.0934],\n        [-1.0934,  0.2810]], grad_fn=<AddBackward0>)"
     },
     "execution_count": 52,
     "metadata": {},
     "output_type": "execute_result"
    }
   ],
   "source": [
    "model.covar_module.task_covar_module.covar_matrix.evaluate()"
   ],
   "metadata": {
    "collapsed": false,
    "pycharm": {
     "name": "#%%\n"
    }
   }
  },
  {
   "cell_type": "code",
   "execution_count": 54,
   "outputs": [
    {
     "data": {
      "text/plain": "tensor([[ 4.2541, -1.0934],\n        [-1.0934,  0.2810]], grad_fn=<MulBackward0>)"
     },
     "execution_count": 54,
     "metadata": {},
     "output_type": "execute_result"
    }
   ],
   "source": [
    "torch.outer(covar_factor[:,0], covar_factor[:,0])"
   ],
   "metadata": {
    "collapsed": false,
    "pycharm": {
     "name": "#%%\n"
    }
   }
  },
  {
   "cell_type": "markdown",
   "source": [
    "So, ``covar_matrix`` is the estimated matrix $B B^\\top$ if\n",
    "\n",
    "* $B = [2, -0.5]^\\top$ (*actually not, see below*)\n",
    "\n",
    "Note:\n",
    "\n",
    "* It's possible that it's actually $B B^\\top + \\text{diag}(\\sigma^2)$, where $\\sigma^2$ is ``raw_var``??\n",
    "\n",
    "(*this is true, I just investigated it.  See:*)"
   ],
   "metadata": {
    "collapsed": false,
    "pycharm": {
     "name": "#%% md\n"
    }
   }
  },
  {
   "cell_type": "code",
   "execution_count": 60,
   "outputs": [
    {
     "name": "stdout",
     "output_type": "stream",
     "text": [
      "tensor([[ 4.2540683746, -1.0933755636],\n",
      "        [-1.0933755636,  0.2810180783]], grad_fn=<MulBackward0>)\n",
      "tensor([[ 4.2544364929, -1.0933755636],\n",
      "        [-1.0933755636,  0.2810488343]], grad_fn=<AddBackward0>)\n",
      "tensor([[ 4.2544364929, -1.0933755636],\n",
      "        [-1.0933755636,  0.2810488343]], grad_fn=<AddBackward0>)\n"
     ]
    }
   ],
   "source": [
    "raw_var = model.covar_module.task_covar_module.raw_var\n",
    "var = trans_to_pos(raw_var)\n",
    "\n",
    "\n",
    "\n",
    "\n",
    "print(torch.outer(covar_factor[:,0], covar_factor[:,0]))\n",
    "print(torch.outer(covar_factor[:,0], covar_factor[:,0]) + torch.diag(var))\n",
    "print(model.covar_module.task_covar_module.covar_matrix.evaluate())\n",
    "\n",
    "torch.set_printoptions(precision=4)\n",
    "\n",
    "\n"
   ],
   "metadata": {
    "collapsed": false,
    "pycharm": {
     "name": "#%%\n"
    }
   }
  },
  {
   "cell_type": "code",
   "execution_count": null,
   "outputs": [],
   "source": [
    "\n",
    "\n",
    "\n"
   ],
   "metadata": {
    "collapsed": false,
    "pycharm": {
     "name": "#%%\n"
    }
   }
  },
  {
   "cell_type": "markdown",
   "source": [
    "# Try plots...\n"
   ],
   "metadata": {
    "collapsed": false,
    "pycharm": {
     "name": "#%% md\n"
    }
   }
  },
  {
   "cell_type": "code",
   "execution_count": 32,
   "outputs": [
    {
     "data": {
      "text/plain": "<Figure size 576x216 with 2 Axes>",
      "image/png": "[encoded data removed]"
     },
     "metadata": {
      "needs_background": "light"
     },
     "output_type": "display_data"
    }
   ],
   "source": [
    "# Set into eval mode\n",
    "model.eval()\n",
    "likelihood.eval()\n",
    "\n",
    "# Initialize plots\n",
    "f, (y1_ax, y2_ax) = plt.subplots(1, 2, figsize=(8, 3))\n",
    "\n",
    "# Make predictions\n",
    "with torch.no_grad(), gpytorch.settings.fast_pred_var():\n",
    "    test_x = torch.linspace(0, 1, 51)\n",
    "    predictions = likelihood(model(test_x))\n",
    "    mean = predictions.mean\n",
    "    lower, upper = predictions.confidence_region()\n",
    "\n",
    "\n",
    "# Plot training data as black stars\n",
    "y1_ax.plot(train_x.detach().numpy(), train_y[:, 0].detach().numpy(), 'k*')\n",
    "# Predictive mean as blue line\n",
    "y1_ax.plot(test_x.numpy(), mean[:, 0].numpy(), 'b')\n",
    "# Shade in confidence\n",
    "y1_ax.fill_between(test_x.numpy(), lower[:, 0].numpy(), upper[:, 0].numpy(), alpha=0.5)\n",
    "#y1_ax.set_ylim([-3, 3])\n",
    "y1_ax.legend(['Observed Data', 'Mean', 'Confidence'])\n",
    "y1_ax.set_title('Observed Values (Likelihood)')\n",
    "\n",
    "# Plot training data as black stars\n",
    "y2_ax.plot(train_x.detach().numpy(), train_y[:, 1].detach().numpy(), 'k*')\n",
    "# Predictive mean as blue line\n",
    "y2_ax.plot(test_x.numpy(), mean[:, 1].numpy(), 'b')\n",
    "# Shade in confidence\n",
    "y2_ax.fill_between(test_x.numpy(), lower[:, 1].numpy(), upper[:, 1].numpy(), alpha=0.5)\n",
    "#y2_ax.set_ylim([-3, 3])\n",
    "y2_ax.legend(['Observed Data', 'Mean', 'Confidence'])\n",
    "y2_ax.set_title('Observed Values (Likelihood)')\n",
    "\n",
    "None"
   ],
   "metadata": {
    "collapsed": false,
    "pycharm": {
     "name": "#%%\n"
    }
   }
  },
  {
   "cell_type": "code",
   "execution_count": null,
   "outputs": [],
   "source": [],
   "metadata": {
    "collapsed": false,
    "pycharm": {
     "name": "#%%\n"
    }
   }
  }
 ],
 "metadata": {
  "kernelspec": {
   "name": "pycharm-126a9db0",
   "language": "python",
   "display_name": "PyCharm (gpytorch-multitask-check)"
  },
  "language_info": {
   "codemirror_mode": {
    "name": "ipython",
    "version": 2
   },
   "file_extension": ".py",
   "mimetype": "text/x-python",
   "name": "python",
   "nbconvert_exporter": "python",
   "pygments_lexer": "ipython2",
   "version": "2.7.6"
  }
 },
 "nbformat": 4,
 "nbformat_minor": 0
}