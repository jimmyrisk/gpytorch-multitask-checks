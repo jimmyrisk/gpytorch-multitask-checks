{
 "cells": [
  {
   "cell_type": "markdown",
   "metadata": {
    "collapsed": true,
    "pycharm": {
     "name": "#%% md\n"
    }
   },
   "source": [
    "Suppose\n",
    "\n",
    "* $K(x,x') = \\exp(-\\frac{\\|x-x'\\|^2}{2\\ell^2})$ with $\\ell=0.5$ (RBF with lengthscale 0.5)\n",
    "* Independent noises\n",
    "    * $\\epsilon_1\\sim N(0, \\sigma^2 = 0.09)$\n",
    "    * $\\epsilon_2 \\sim N(0, \\sigma^2 = 0.01)$\n",
    "* $f$ is mean zero GP with kernel $K$\n",
    "* $y_1 = 2 f(x) + \\epsilon_1$\n",
    "* $y_2 = -0.5 f(x) + \\epsilon_2$\n",
    "\n",
    "Generate 100 observations of $(x, y_1, y_2)$ according to $x \\in\\{ 0.01, 0.02, 0.03, \\cdots 1\\}$ using ``sklearn``, then try to recover parameters with ``gpytorch``"
   ]
  },
  {
   "cell_type": "code",
   "execution_count": 1,
   "outputs": [],
   "source": [
    "from sklearn.gaussian_process.kernels import RBF, WhiteKernel\n",
    "from sklearn.gaussian_process import GaussianProcessRegressor\n",
    "\n",
    "import numpy as np\n",
    "import matplotlib.pyplot as plt\n",
    "\n",
    "import math\n",
    "import torch\n",
    "import gpytorch\n"
   ],
   "metadata": {
    "collapsed": false,
    "pycharm": {
     "name": "#%%\n"
    }
   }
  },
  {
   "cell_type": "code",
   "execution_count": 2,
   "outputs": [],
   "source": [
    "l = 0.5\n",
    "sigma1 = 0.3\n",
    "sigma2 = 0.1\n",
    "n = 100\n",
    "\n",
    "X = np.linspace(0.01, 1, 100).reshape(-1,1)\n",
    "\n",
    "K = RBF(length_scale=l)\n",
    "\n",
    "f = GaussianProcessRegressor(kernel=K)\n",
    "f_obs = f.sample_y(X, n_samples=1, random_state=1234)\n",
    "f_obs = f_obs[:,0]\n",
    "\n",
    "# generate noise\n",
    "\n",
    "np.random.seed(12345)\n",
    "\n",
    "y1 = 2 * f_obs + np.random.normal(scale=sigma1, size=100)\n",
    "y2 = -0.5 * f_obs + np.random.normal(scale=sigma2, size=100)\n"
   ],
   "metadata": {
    "collapsed": false,
    "pycharm": {
     "name": "#%%\n"
    }
   }
  },
  {
   "cell_type": "code",
   "execution_count": 3,
   "outputs": [
    {
     "data": {
      "text/plain": "<Figure size 432x288 with 1 Axes>",
      "image/png": "[encoded data removed]"
     },
     "metadata": {
      "needs_background": "light"
     },
     "output_type": "display_data"
    }
   ],
   "source": [
    "plt.plot(X, y1, label=\"y1\")\n",
    "plt.plot(X, y2, label=\"y2\")\n",
    "plt.legend()\n",
    "plt.xlabel(\"$x$\")\n",
    "plt.ylabel(\"$y$\")\n",
    "plt.show()"
   ],
   "metadata": {
    "collapsed": false,
    "pycharm": {
     "name": "#%%\n"
    }
   }
  },
  {
   "cell_type": "code",
   "execution_count": 4,
   "outputs": [],
   "source": [
    "train_x = torch.from_numpy(X).float()\n",
    "train_y = torch.stack([\n",
    "    torch.from_numpy(y1).float(),\n",
    "    torch.from_numpy(y2).float(),\n",
    "])\n",
    "\n",
    "class MultitaskGPModel(gpytorch.models.ExactGP):\n",
    "    def __init__(self, train_x, train_y, likelihood):\n",
    "        super(MultitaskGPModel, self).__init__(train_x, train_y, likelihood)\n",
    "        self.mean_module = gpytorch.means.MultitaskMean(\n",
    "            gpytorch.means.ZeroMean(), num_tasks=2\n",
    "        )\n",
    "        self.covar_module = gpytorch.kernels.MultitaskKernel(\n",
    "            gpytorch.kernels.RBFKernel(), num_tasks=2, rank=1\n",
    "        )\n",
    "\n",
    "    def forward(self, x):\n",
    "        mean_x = self.mean_module(x)\n",
    "        covar_x = self.covar_module(x)\n",
    "        return gpytorch.distributions.MultitaskMultivariateNormal(mean_x, covar_x)\n",
    "\n",
    "\n",
    "likelihood = gpytorch.likelihoods.MultitaskGaussianLikelihood(num_tasks=2)\n",
    "model = MultitaskGPModel(train_x, train_y, likelihood)"
   ],
   "metadata": {
    "collapsed": false,
    "pycharm": {
     "name": "#%%\n"
    }
   }
  },
  {
   "cell_type": "code",
   "execution_count": 5,
   "outputs": [
    {
     "name": "stdout",
     "output_type": "stream",
     "text": [
      "Iter 1/200 - Loss: 1.398\n",
      "Iter 2/200 - Loss: 1.369\n",
      "Iter 3/200 - Loss: 1.338\n",
      "Iter 4/200 - Loss: 1.302\n",
      "Iter 5/200 - Loss: 1.264\n",
      "Iter 6/200 - Loss: 1.226\n",
      "Iter 7/200 - Loss: 1.188\n",
      "Iter 8/200 - Loss: 1.151\n",
      "Iter 9/200 - Loss: 1.116\n",
      "Iter 10/200 - Loss: 1.083\n",
      "Iter 11/200 - Loss: 1.050\n",
      "Iter 12/200 - Loss: 1.016\n",
      "Iter 13/200 - Loss: 0.978\n",
      "Iter 14/200 - Loss: 0.939\n",
      "Iter 15/200 - Loss: 0.901\n",
      "Iter 16/200 - Loss: 0.865\n",
      "Iter 17/200 - Loss: 0.829\n",
      "Iter 18/200 - Loss: 0.796\n",
      "Iter 19/200 - Loss: 0.765\n",
      "Iter 20/200 - Loss: 0.736\n",
      "Iter 21/200 - Loss: 0.711\n",
      "Iter 22/200 - Loss: 0.692\n",
      "Iter 23/200 - Loss: 0.677\n",
      "Iter 24/200 - Loss: 0.662\n",
      "Iter 25/200 - Loss: 0.648\n",
      "Iter 26/200 - Loss: 0.633\n",
      "Iter 27/200 - Loss: 0.619\n",
      "Iter 28/200 - Loss: 0.608\n",
      "Iter 29/200 - Loss: 0.601\n",
      "Iter 30/200 - Loss: 0.595\n",
      "Iter 31/200 - Loss: 0.591\n",
      "Iter 32/200 - Loss: 0.587\n",
      "Iter 33/200 - Loss: 0.584\n",
      "Iter 34/200 - Loss: 0.581\n",
      "Iter 35/200 - Loss: 0.578\n",
      "Iter 36/200 - Loss: 0.575\n",
      "Iter 37/200 - Loss: 0.571\n",
      "Iter 38/200 - Loss: 0.566\n",
      "Iter 39/200 - Loss: 0.560\n",
      "Iter 40/200 - Loss: 0.552\n",
      "Iter 41/200 - Loss: 0.544\n",
      "Iter 42/200 - Loss: 0.536\n",
      "Iter 43/200 - Loss: 0.529\n",
      "Iter 44/200 - Loss: 0.521\n",
      "Iter 45/200 - Loss: 0.514\n",
      "Iter 46/200 - Loss: 0.506\n",
      "Iter 47/200 - Loss: 0.498\n",
      "Iter 48/200 - Loss: 0.491\n",
      "Iter 49/200 - Loss: 0.485\n",
      "Iter 50/200 - Loss: 0.483\n",
      "Iter 51/200 - Loss: 0.478\n",
      "Iter 52/200 - Loss: 0.473\n",
      "Iter 53/200 - Loss: 0.470\n",
      "Iter 54/200 - Loss: 0.465\n",
      "Iter 55/200 - Loss: 0.459\n",
      "Iter 56/200 - Loss: 0.456\n",
      "Iter 57/200 - Loss: 0.452\n",
      "Iter 58/200 - Loss: 0.447\n",
      "Iter 59/200 - Loss: 0.445\n",
      "Iter 60/200 - Loss: 0.442\n",
      "Iter 61/200 - Loss: 0.438\n",
      "Iter 62/200 - Loss: 0.436\n",
      "Iter 63/200 - Loss: 0.434\n",
      "Iter 64/200 - Loss: 0.431\n",
      "Iter 65/200 - Loss: 0.430\n",
      "Iter 66/200 - Loss: 0.427\n",
      "Iter 67/200 - Loss: 0.426\n",
      "Iter 68/200 - Loss: 0.425\n",
      "Iter 69/200 - Loss: 0.424\n",
      "Iter 70/200 - Loss: 0.422\n",
      "Iter 71/200 - Loss: 0.422\n",
      "Iter 72/200 - Loss: 0.421\n",
      "Iter 73/200 - Loss: 0.420\n",
      "Iter 74/200 - Loss: 0.419\n",
      "Iter 75/200 - Loss: 0.418\n",
      "Iter 76/200 - Loss: 0.417\n",
      "Iter 77/200 - Loss: 0.416\n",
      "Iter 78/200 - Loss: 0.415\n",
      "Iter 79/200 - Loss: 0.414\n",
      "Iter 80/200 - Loss: 0.414\n",
      "Iter 81/200 - Loss: 0.413\n",
      "Iter 82/200 - Loss: 0.412\n",
      "Iter 83/200 - Loss: 0.412\n",
      "Iter 84/200 - Loss: 0.412\n",
      "Iter 85/200 - Loss: 0.411\n",
      "Iter 86/200 - Loss: 0.411\n",
      "Iter 87/200 - Loss: 0.410\n",
      "Iter 88/200 - Loss: 0.410\n",
      "Iter 89/200 - Loss: 0.409\n",
      "Iter 90/200 - Loss: 0.409\n",
      "Iter 91/200 - Loss: 0.409\n",
      "Iter 92/200 - Loss: 0.409\n",
      "Iter 93/200 - Loss: 0.409\n",
      "Iter 94/200 - Loss: 0.409\n",
      "Iter 95/200 - Loss: 0.409\n",
      "Iter 96/200 - Loss: 0.409\n",
      "Iter 97/200 - Loss: 0.409\n",
      "Iter 98/200 - Loss: 0.409\n",
      "Iter 99/200 - Loss: 0.409\n",
      "Iter 100/200 - Loss: 0.409\n",
      "Iter 101/200 - Loss: 0.409\n",
      "Iter 102/200 - Loss: 0.409\n",
      "Iter 103/200 - Loss: 0.409\n",
      "Iter 104/200 - Loss: 0.408\n",
      "Iter 105/200 - Loss: 0.408\n",
      "Iter 106/200 - Loss: 0.408\n",
      "Iter 107/200 - Loss: 0.408\n",
      "Iter 108/200 - Loss: 0.408\n",
      "Iter 109/200 - Loss: 0.408\n",
      "Iter 110/200 - Loss: 0.408\n",
      "Iter 111/200 - Loss: 0.408\n",
      "Iter 112/200 - Loss: 0.408\n",
      "Iter 113/200 - Loss: 0.408\n",
      "Iter 114/200 - Loss: 0.408\n",
      "Iter 115/200 - Loss: 0.408\n",
      "Iter 116/200 - Loss: 0.408\n",
      "Iter 117/200 - Loss: 0.408\n",
      "Iter 118/200 - Loss: 0.408\n",
      "Iter 119/200 - Loss: 0.408\n",
      "Iter 120/200 - Loss: 0.408\n",
      "Iter 121/200 - Loss: 0.408\n",
      "Iter 122/200 - Loss: 0.408\n",
      "Iter 123/200 - Loss: 0.408\n",
      "Iter 124/200 - Loss: 0.408\n",
      "Iter 125/200 - Loss: 0.408\n",
      "Iter 126/200 - Loss: 0.408\n",
      "Iter 127/200 - Loss: 0.408\n",
      "Iter 128/200 - Loss: 0.408\n",
      "Iter 129/200 - Loss: 0.408\n",
      "Iter 130/200 - Loss: 0.408\n",
      "Iter 131/200 - Loss: 0.408\n",
      "Iter 132/200 - Loss: 0.408\n",
      "Iter 133/200 - Loss: 0.408\n",
      "Iter 134/200 - Loss: 0.408\n",
      "Iter 135/200 - Loss: 0.409\n",
      "Iter 136/200 - Loss: 0.408\n",
      "Iter 137/200 - Loss: 0.408\n",
      "Iter 138/200 - Loss: 0.408\n",
      "Iter 139/200 - Loss: 0.408\n",
      "Iter 140/200 - Loss: 0.408\n",
      "Iter 141/200 - Loss: 0.408\n",
      "Iter 142/200 - Loss: 0.408\n",
      "Iter 143/200 - Loss: 0.408\n",
      "Iter 144/200 - Loss: 0.408\n",
      "Iter 145/200 - Loss: 0.407\n",
      "Iter 146/200 - Loss: 0.408\n",
      "Iter 147/200 - Loss: 0.408\n",
      "Iter 148/200 - Loss: 0.408\n",
      "Iter 149/200 - Loss: 0.407\n",
      "Iter 150/200 - Loss: 0.408\n",
      "Iter 151/200 - Loss: 0.408\n",
      "Iter 152/200 - Loss: 0.407\n",
      "Iter 153/200 - Loss: 0.407\n",
      "Iter 154/200 - Loss: 0.408\n",
      "Iter 155/200 - Loss: 0.407\n",
      "Iter 156/200 - Loss: 0.407\n",
      "Iter 157/200 - Loss: 0.407\n",
      "Iter 158/200 - Loss: 0.407\n",
      "Iter 159/200 - Loss: 0.407\n",
      "Iter 160/200 - Loss: 0.407\n",
      "Iter 161/200 - Loss: 0.407\n",
      "Iter 162/200 - Loss: 0.407\n",
      "Iter 163/200 - Loss: 0.407\n",
      "Iter 164/200 - Loss: 0.407\n",
      "Iter 165/200 - Loss: 0.407\n",
      "Iter 166/200 - Loss: 0.407\n",
      "Iter 167/200 - Loss: 0.407\n",
      "Iter 168/200 - Loss: 0.407\n",
      "Iter 169/200 - Loss: 0.407\n",
      "Iter 170/200 - Loss: 0.407\n",
      "Iter 171/200 - Loss: 0.407\n",
      "Iter 172/200 - Loss: 0.407\n",
      "Iter 173/200 - Loss: 0.407\n",
      "Iter 174/200 - Loss: 0.407\n",
      "Iter 175/200 - Loss: 0.407\n",
      "Iter 176/200 - Loss: 0.407\n",
      "Iter 177/200 - Loss: 0.407\n",
      "Iter 178/200 - Loss: 0.407\n",
      "Iter 179/200 - Loss: 0.407\n",
      "Iter 180/200 - Loss: 0.407\n",
      "Iter 181/200 - Loss: 0.407\n",
      "Iter 182/200 - Loss: 0.407\n",
      "Iter 183/200 - Loss: 0.407\n",
      "Iter 184/200 - Loss: 0.407\n",
      "Iter 185/200 - Loss: 0.407\n",
      "Iter 186/200 - Loss: 0.407\n",
      "Iter 187/200 - Loss: 0.407\n",
      "Iter 188/200 - Loss: 0.407\n",
      "Iter 189/200 - Loss: 0.407\n",
      "Iter 190/200 - Loss: 0.407\n",
      "Iter 191/200 - Loss: 0.407\n",
      "Iter 192/200 - Loss: 0.407\n",
      "Iter 193/200 - Loss: 0.407\n",
      "Iter 194/200 - Loss: 0.407\n",
      "Iter 195/200 - Loss: 0.407\n",
      "Iter 196/200 - Loss: 0.407\n",
      "Iter 197/200 - Loss: 0.407\n",
      "Iter 198/200 - Loss: 0.407\n",
      "Iter 199/200 - Loss: 0.407\n",
      "Iter 200/200 - Loss: 0.407\n"
     ]
    }
   ],
   "source": [
    "training_iterations = 200\n",
    "\n",
    "model.train()\n",
    "likelihood.train()\n",
    "\n",
    "# Use the adam optimizer\n",
    "optimizer = torch.optim.Adam(model.parameters(), lr=0.1)  # Includes GaussianLikelihood parameters\n",
    "\n",
    "# \"Loss\" for GPs - the marginal log likelihood\n",
    "mll = gpytorch.mlls.ExactMarginalLogLikelihood(likelihood, model)\n",
    "\n",
    "for i in range(training_iterations):\n",
    "    optimizer.zero_grad()\n",
    "    output = model(train_x)\n",
    "    loss = -mll(output, train_y)\n",
    "    loss.backward()\n",
    "    print('Iter %d/%d - Loss: %.3f' % (i + 1, training_iterations, loss.item()))\n",
    "    optimizer.step()"
   ],
   "metadata": {
    "collapsed": false,
    "pycharm": {
     "name": "#%%\n"
    }
   }
  },
  {
   "cell_type": "markdown",
   "source": [
    "``model.state_dict()`` returns nonsensical values since they're on log scale:"
   ],
   "metadata": {
    "collapsed": false,
    "pycharm": {
     "name": "#%% md\n"
    }
   }
  },
  {
   "cell_type": "code",
   "execution_count": 6,
   "outputs": [
    {
     "data": {
      "text/plain": "OrderedDict([('likelihood.raw_task_noises', tensor([-3.3837, -3.5331])),\n             ('likelihood.raw_noise', tensor([-3.4435])),\n             ('likelihood.raw_task_noises_constraint.lower_bound',\n              tensor(1.0000e-04)),\n             ('likelihood.raw_task_noises_constraint.upper_bound',\n              tensor(inf)),\n             ('likelihood.raw_noise_constraint.lower_bound',\n              tensor(1.0000e-04)),\n             ('likelihood.raw_noise_constraint.upper_bound', tensor(inf)),\n             ('covar_module.task_covar_module.covar_factor',\n              tensor([[-0.8417],\n                      [-0.8321]])),\n             ('covar_module.task_covar_module.raw_var',\n              tensor([-6.4903, -6.7582])),\n             ('covar_module.task_covar_module.raw_var_constraint.lower_bound',\n              tensor(0.)),\n             ('covar_module.task_covar_module.raw_var_constraint.upper_bound',\n              tensor(inf)),\n             ('covar_module.data_covar_module.raw_lengthscale',\n              tensor([[-3.7403]])),\n             ('covar_module.data_covar_module.raw_lengthscale_constraint.lower_bound',\n              tensor(0.)),\n             ('covar_module.data_covar_module.raw_lengthscale_constraint.upper_bound',\n              tensor(inf))])"
     },
     "execution_count": 6,
     "metadata": {},
     "output_type": "execute_result"
    }
   ],
   "source": [
    "model.state_dict()"
   ],
   "metadata": {
    "collapsed": false,
    "pycharm": {
     "name": "#%%\n"
    }
   }
  },
  {
   "cell_type": "code",
   "execution_count": 7,
   "outputs": [
    {
     "data": {
      "text/plain": "tensor([[0.7099, 0.7003],\n        [0.7003, 0.6935]], grad_fn=<AddBackward0>)"
     },
     "execution_count": 7,
     "metadata": {},
     "output_type": "execute_result"
    }
   ],
   "source": [
    "model.covar_module.task_covar_module.covar_matrix.evaluate()"
   ],
   "metadata": {
    "collapsed": false,
    "pycharm": {
     "name": "#%%\n"
    }
   }
  },
  {
   "cell_type": "code",
   "execution_count": 8,
   "outputs": [
    {
     "name": "stdout",
     "output_type": "stream",
     "text": [
      "Parameter containing:\n",
      "tensor([-6.4903, -6.7582], requires_grad=True)\n",
      "tensor([0.0015, 0.0012], grad_fn=<ExpBackward0>)\n"
     ]
    }
   ],
   "source": [
    "print(model.covar_module.task_covar_module.raw_var)\n",
    "print(torch.exp(model.covar_module.task_covar_module.raw_var))"
   ],
   "metadata": {
    "collapsed": false,
    "pycharm": {
     "name": "#%%\n"
    }
   }
  },
  {
   "cell_type": "code",
   "execution_count": 10,
   "outputs": [
    {
     "name": "stdout",
     "output_type": "stream",
     "text": [
      "Parameter containing:\n",
      "tensor([[-3.7403]], requires_grad=True)\n",
      "tensor([[0.0237]], grad_fn=<ExpBackward0>)\n"
     ]
    }
   ],
   "source": [
    "print(model.covar_module.data_covar_module.raw_lengthscale)\n",
    "print(torch.exp(model.covar_module.data_covar_module.raw_lengthscale))"
   ],
   "metadata": {
    "collapsed": false,
    "pycharm": {
     "name": "#%%\n"
    }
   }
  },
  {
   "cell_type": "code",
   "execution_count": null,
   "outputs": [],
   "source": [],
   "metadata": {
    "collapsed": false,
    "pycharm": {
     "name": "#%%\n"
    }
   }
  }
 ],
 "metadata": {
  "kernelspec": {
   "name": "pycharm-126a9db0",
   "language": "python",
   "display_name": "PyCharm (gpytorch-multitask-check)"
  },
  "language_info": {
   "codemirror_mode": {
    "name": "ipython",
    "version": 2
   },
   "file_extension": ".py",
   "mimetype": "text/x-python",
   "name": "python",
   "nbconvert_exporter": "python",
   "pygments_lexer": "ipython2",
   "version": "2.7.6"
  }
 },
 "nbformat": 4,
 "nbformat_minor": 0
}